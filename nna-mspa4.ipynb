{
 "cells": [
  {
   "cell_type": "markdown",
   "id": "ec58f195",
   "metadata": {
    "papermill": {
     "duration": 0.006727,
     "end_time": "2023-04-09T11:48:06.385180",
     "exception": false,
     "start_time": "2023-04-09T11:48:06.378453",
     "status": "completed"
    },
    "tags": []
   },
   "source": [
    "# Reading Files form input"
   ]
  },
  {
   "cell_type": "code",
   "execution_count": 6,
   "id": "6c873ca2",
   "metadata": {
    "execution": {
     "iopub.execute_input": "2023-04-09T11:48:06.440804Z",
     "iopub.status.busy": "2023-04-09T11:48:06.439870Z",
     "iopub.status.idle": "2023-04-09T11:48:07.259240Z",
     "shell.execute_reply": "2023-04-09T11:48:07.258015Z"
    },
    "papermill": {
     "duration": 0.831026,
     "end_time": "2023-04-09T11:48:07.262070",
     "exception": false,
     "start_time": "2023-04-09T11:48:06.431044",
     "status": "completed"
    },
    "tags": []
   },
   "outputs": [],
   "source": [
    "import numpy as np # linear algebra\n",
    "import pandas as pd # data processing, CSV file I/O (e.g. pd.read_csv)\n",
    "\n",
    "data = pd.read_csv(\"C:/YCCE/LABs/NAA lab/MSPA4/train_data/train_data.csv\")\n",
    "                   "
   ]
  },
  {
   "cell_type": "code",
   "execution_count": 7,
   "id": "f844f74e",
   "metadata": {
    "execution": {
     "iopub.execute_input": "2023-04-09T11:48:07.275084Z",
     "iopub.status.busy": "2023-04-09T11:48:07.274549Z",
     "iopub.status.idle": "2023-04-09T11:48:07.309205Z",
     "shell.execute_reply": "2023-04-09T11:48:07.308055Z"
    },
    "papermill": {
     "duration": 0.044078,
     "end_time": "2023-04-09T11:48:07.311667",
     "exception": false,
     "start_time": "2023-04-09T11:48:07.267589",
     "status": "completed"
    },
    "tags": []
   },
   "outputs": [
    {
     "data": {
      "text/html": [
       "<div>\n",
       "<style scoped>\n",
       "    .dataframe tbody tr th:only-of-type {\n",
       "        vertical-align: middle;\n",
       "    }\n",
       "\n",
       "    .dataframe tbody tr th {\n",
       "        vertical-align: top;\n",
       "    }\n",
       "\n",
       "    .dataframe thead th {\n",
       "        text-align: right;\n",
       "    }\n",
       "</style>\n",
       "<table border=\"1\" class=\"dataframe\">\n",
       "  <thead>\n",
       "    <tr style=\"text-align: right;\">\n",
       "      <th></th>\n",
       "      <th>case_id</th>\n",
       "      <th>Hospital_code</th>\n",
       "      <th>Hospital_type_code</th>\n",
       "      <th>City_Code_Hospital</th>\n",
       "      <th>Hospital_region_code</th>\n",
       "      <th>Available Extra Rooms in Hospital</th>\n",
       "      <th>Department</th>\n",
       "      <th>Ward_Type</th>\n",
       "      <th>Ward_Facility_Code</th>\n",
       "      <th>Bed Grade</th>\n",
       "      <th>patientid</th>\n",
       "      <th>City_Code_Patient</th>\n",
       "      <th>Type of Admission</th>\n",
       "      <th>Severity of Illness</th>\n",
       "      <th>Visitors with Patient</th>\n",
       "      <th>Age</th>\n",
       "      <th>Admission_Deposit</th>\n",
       "      <th>Stay</th>\n",
       "    </tr>\n",
       "  </thead>\n",
       "  <tbody>\n",
       "    <tr>\n",
       "      <th>0</th>\n",
       "      <td>1</td>\n",
       "      <td>8</td>\n",
       "      <td>c</td>\n",
       "      <td>3</td>\n",
       "      <td>Z</td>\n",
       "      <td>3</td>\n",
       "      <td>radiotherapy</td>\n",
       "      <td>R</td>\n",
       "      <td>F</td>\n",
       "      <td>2.0</td>\n",
       "      <td>31397</td>\n",
       "      <td>7.0</td>\n",
       "      <td>Emergency</td>\n",
       "      <td>Extreme</td>\n",
       "      <td>2</td>\n",
       "      <td>51-60</td>\n",
       "      <td>4911</td>\n",
       "      <td>0-10</td>\n",
       "    </tr>\n",
       "    <tr>\n",
       "      <th>1</th>\n",
       "      <td>2</td>\n",
       "      <td>2</td>\n",
       "      <td>c</td>\n",
       "      <td>5</td>\n",
       "      <td>Z</td>\n",
       "      <td>2</td>\n",
       "      <td>radiotherapy</td>\n",
       "      <td>S</td>\n",
       "      <td>F</td>\n",
       "      <td>2.0</td>\n",
       "      <td>31397</td>\n",
       "      <td>7.0</td>\n",
       "      <td>Trauma</td>\n",
       "      <td>Extreme</td>\n",
       "      <td>2</td>\n",
       "      <td>51-60</td>\n",
       "      <td>5954</td>\n",
       "      <td>41-50</td>\n",
       "    </tr>\n",
       "    <tr>\n",
       "      <th>2</th>\n",
       "      <td>3</td>\n",
       "      <td>10</td>\n",
       "      <td>e</td>\n",
       "      <td>1</td>\n",
       "      <td>X</td>\n",
       "      <td>2</td>\n",
       "      <td>anesthesia</td>\n",
       "      <td>S</td>\n",
       "      <td>E</td>\n",
       "      <td>2.0</td>\n",
       "      <td>31397</td>\n",
       "      <td>7.0</td>\n",
       "      <td>Trauma</td>\n",
       "      <td>Extreme</td>\n",
       "      <td>2</td>\n",
       "      <td>51-60</td>\n",
       "      <td>4745</td>\n",
       "      <td>31-40</td>\n",
       "    </tr>\n",
       "    <tr>\n",
       "      <th>3</th>\n",
       "      <td>4</td>\n",
       "      <td>26</td>\n",
       "      <td>b</td>\n",
       "      <td>2</td>\n",
       "      <td>Y</td>\n",
       "      <td>2</td>\n",
       "      <td>radiotherapy</td>\n",
       "      <td>R</td>\n",
       "      <td>D</td>\n",
       "      <td>2.0</td>\n",
       "      <td>31397</td>\n",
       "      <td>7.0</td>\n",
       "      <td>Trauma</td>\n",
       "      <td>Extreme</td>\n",
       "      <td>2</td>\n",
       "      <td>51-60</td>\n",
       "      <td>7272</td>\n",
       "      <td>41-50</td>\n",
       "    </tr>\n",
       "    <tr>\n",
       "      <th>4</th>\n",
       "      <td>5</td>\n",
       "      <td>26</td>\n",
       "      <td>b</td>\n",
       "      <td>2</td>\n",
       "      <td>Y</td>\n",
       "      <td>2</td>\n",
       "      <td>radiotherapy</td>\n",
       "      <td>S</td>\n",
       "      <td>D</td>\n",
       "      <td>2.0</td>\n",
       "      <td>31397</td>\n",
       "      <td>7.0</td>\n",
       "      <td>Trauma</td>\n",
       "      <td>Extreme</td>\n",
       "      <td>2</td>\n",
       "      <td>51-60</td>\n",
       "      <td>5558</td>\n",
       "      <td>41-50</td>\n",
       "    </tr>\n",
       "  </tbody>\n",
       "</table>\n",
       "</div>"
      ],
      "text/plain": [
       "   case_id  Hospital_code Hospital_type_code  City_Code_Hospital  \\\n",
       "0        1              8                  c                   3   \n",
       "1        2              2                  c                   5   \n",
       "2        3             10                  e                   1   \n",
       "3        4             26                  b                   2   \n",
       "4        5             26                  b                   2   \n",
       "\n",
       "  Hospital_region_code  Available Extra Rooms in Hospital    Department  \\\n",
       "0                    Z                                  3  radiotherapy   \n",
       "1                    Z                                  2  radiotherapy   \n",
       "2                    X                                  2    anesthesia   \n",
       "3                    Y                                  2  radiotherapy   \n",
       "4                    Y                                  2  radiotherapy   \n",
       "\n",
       "  Ward_Type Ward_Facility_Code  Bed Grade  patientid  City_Code_Patient  \\\n",
       "0         R                  F        2.0      31397                7.0   \n",
       "1         S                  F        2.0      31397                7.0   \n",
       "2         S                  E        2.0      31397                7.0   \n",
       "3         R                  D        2.0      31397                7.0   \n",
       "4         S                  D        2.0      31397                7.0   \n",
       "\n",
       "  Type of Admission Severity of Illness  Visitors with Patient    Age  \\\n",
       "0         Emergency             Extreme                      2  51-60   \n",
       "1            Trauma             Extreme                      2  51-60   \n",
       "2            Trauma             Extreme                      2  51-60   \n",
       "3            Trauma             Extreme                      2  51-60   \n",
       "4            Trauma             Extreme                      2  51-60   \n",
       "\n",
       "   Admission_Deposit   Stay  \n",
       "0               4911   0-10  \n",
       "1               5954  41-50  \n",
       "2               4745  31-40  \n",
       "3               7272  41-50  \n",
       "4               5558  41-50  "
      ]
     },
     "execution_count": 7,
     "metadata": {},
     "output_type": "execute_result"
    }
   ],
   "source": [
    "data.head()"
   ]
  },
  {
   "cell_type": "code",
   "execution_count": 8,
   "id": "e4a3c7b9",
   "metadata": {
    "execution": {
     "iopub.execute_input": "2023-04-09T11:48:07.325165Z",
     "iopub.status.busy": "2023-04-09T11:48:07.324353Z",
     "iopub.status.idle": "2023-04-09T11:48:07.464512Z",
     "shell.execute_reply": "2023-04-09T11:48:07.463253Z"
    },
    "papermill": {
     "duration": 0.149449,
     "end_time": "2023-04-09T11:48:07.466989",
     "exception": false,
     "start_time": "2023-04-09T11:48:07.317540",
     "status": "completed"
    },
    "tags": []
   },
   "outputs": [
    {
     "data": {
      "text/html": [
       "<div>\n",
       "<style scoped>\n",
       "    .dataframe tbody tr th:only-of-type {\n",
       "        vertical-align: middle;\n",
       "    }\n",
       "\n",
       "    .dataframe tbody tr th {\n",
       "        vertical-align: top;\n",
       "    }\n",
       "\n",
       "    .dataframe thead th {\n",
       "        text-align: right;\n",
       "    }\n",
       "</style>\n",
       "<table border=\"1\" class=\"dataframe\">\n",
       "  <thead>\n",
       "    <tr style=\"text-align: right;\">\n",
       "      <th></th>\n",
       "      <th>case_id</th>\n",
       "      <th>Hospital_code</th>\n",
       "      <th>City_Code_Hospital</th>\n",
       "      <th>Available Extra Rooms in Hospital</th>\n",
       "      <th>Bed Grade</th>\n",
       "      <th>patientid</th>\n",
       "      <th>City_Code_Patient</th>\n",
       "      <th>Visitors with Patient</th>\n",
       "      <th>Admission_Deposit</th>\n",
       "    </tr>\n",
       "  </thead>\n",
       "  <tbody>\n",
       "    <tr>\n",
       "      <th>count</th>\n",
       "      <td>5001.000000</td>\n",
       "      <td>5001.000000</td>\n",
       "      <td>5001.000000</td>\n",
       "      <td>5001.000000</td>\n",
       "      <td>4999.000000</td>\n",
       "      <td>5001.000000</td>\n",
       "      <td>4959.000000</td>\n",
       "      <td>5001.000000</td>\n",
       "      <td>5001.000000</td>\n",
       "    </tr>\n",
       "    <tr>\n",
       "      <th>mean</th>\n",
       "      <td>2501.000000</td>\n",
       "      <td>18.841032</td>\n",
       "      <td>4.697261</td>\n",
       "      <td>3.171766</td>\n",
       "      <td>2.487497</td>\n",
       "      <td>67583.936613</td>\n",
       "      <td>6.872757</td>\n",
       "      <td>3.276745</td>\n",
       "      <td>4894.865627</td>\n",
       "    </tr>\n",
       "    <tr>\n",
       "      <th>std</th>\n",
       "      <td>1443.808678</td>\n",
       "      <td>8.718700</td>\n",
       "      <td>3.234305</td>\n",
       "      <td>1.147123</td>\n",
       "      <td>0.818084</td>\n",
       "      <td>37496.192924</td>\n",
       "      <td>4.425182</td>\n",
       "      <td>1.734300</td>\n",
       "      <td>1025.324568</td>\n",
       "    </tr>\n",
       "    <tr>\n",
       "      <th>min</th>\n",
       "      <td>1.000000</td>\n",
       "      <td>1.000000</td>\n",
       "      <td>1.000000</td>\n",
       "      <td>1.000000</td>\n",
       "      <td>1.000000</td>\n",
       "      <td>170.000000</td>\n",
       "      <td>1.000000</td>\n",
       "      <td>1.000000</td>\n",
       "      <td>1995.000000</td>\n",
       "    </tr>\n",
       "    <tr>\n",
       "      <th>25%</th>\n",
       "      <td>1251.000000</td>\n",
       "      <td>11.000000</td>\n",
       "      <td>2.000000</td>\n",
       "      <td>2.000000</td>\n",
       "      <td>2.000000</td>\n",
       "      <td>36786.000000</td>\n",
       "      <td>4.000000</td>\n",
       "      <td>2.000000</td>\n",
       "      <td>4216.000000</td>\n",
       "    </tr>\n",
       "    <tr>\n",
       "      <th>50%</th>\n",
       "      <td>2501.000000</td>\n",
       "      <td>21.000000</td>\n",
       "      <td>4.000000</td>\n",
       "      <td>3.000000</td>\n",
       "      <td>2.000000</td>\n",
       "      <td>69497.000000</td>\n",
       "      <td>8.000000</td>\n",
       "      <td>3.000000</td>\n",
       "      <td>4776.000000</td>\n",
       "    </tr>\n",
       "    <tr>\n",
       "      <th>75%</th>\n",
       "      <td>3751.000000</td>\n",
       "      <td>26.000000</td>\n",
       "      <td>7.000000</td>\n",
       "      <td>4.000000</td>\n",
       "      <td>3.000000</td>\n",
       "      <td>99754.000000</td>\n",
       "      <td>8.000000</td>\n",
       "      <td>4.000000</td>\n",
       "      <td>5401.000000</td>\n",
       "    </tr>\n",
       "    <tr>\n",
       "      <th>max</th>\n",
       "      <td>5001.000000</td>\n",
       "      <td>32.000000</td>\n",
       "      <td>13.000000</td>\n",
       "      <td>10.000000</td>\n",
       "      <td>4.000000</td>\n",
       "      <td>131488.000000</td>\n",
       "      <td>28.000000</td>\n",
       "      <td>24.000000</td>\n",
       "      <td>9758.000000</td>\n",
       "    </tr>\n",
       "  </tbody>\n",
       "</table>\n",
       "</div>"
      ],
      "text/plain": [
       "           case_id  Hospital_code  City_Code_Hospital  \\\n",
       "count  5001.000000    5001.000000         5001.000000   \n",
       "mean   2501.000000      18.841032            4.697261   \n",
       "std    1443.808678       8.718700            3.234305   \n",
       "min       1.000000       1.000000            1.000000   \n",
       "25%    1251.000000      11.000000            2.000000   \n",
       "50%    2501.000000      21.000000            4.000000   \n",
       "75%    3751.000000      26.000000            7.000000   \n",
       "max    5001.000000      32.000000           13.000000   \n",
       "\n",
       "       Available Extra Rooms in Hospital    Bed Grade      patientid  \\\n",
       "count                        5001.000000  4999.000000    5001.000000   \n",
       "mean                            3.171766     2.487497   67583.936613   \n",
       "std                             1.147123     0.818084   37496.192924   \n",
       "min                             1.000000     1.000000     170.000000   \n",
       "25%                             2.000000     2.000000   36786.000000   \n",
       "50%                             3.000000     2.000000   69497.000000   \n",
       "75%                             4.000000     3.000000   99754.000000   \n",
       "max                            10.000000     4.000000  131488.000000   \n",
       "\n",
       "       City_Code_Patient  Visitors with Patient  Admission_Deposit  \n",
       "count        4959.000000            5001.000000        5001.000000  \n",
       "mean            6.872757               3.276745        4894.865627  \n",
       "std             4.425182               1.734300        1025.324568  \n",
       "min             1.000000               1.000000        1995.000000  \n",
       "25%             4.000000               2.000000        4216.000000  \n",
       "50%             8.000000               3.000000        4776.000000  \n",
       "75%             8.000000               4.000000        5401.000000  \n",
       "max            28.000000              24.000000        9758.000000  "
      ]
     },
     "execution_count": 8,
     "metadata": {},
     "output_type": "execute_result"
    }
   ],
   "source": [
    "data.describe()"
   ]
  },
  {
   "cell_type": "markdown",
   "id": "b27d38c6",
   "metadata": {
    "papermill": {
     "duration": 0.006002,
     "end_time": "2023-04-09T11:48:07.479290",
     "exception": false,
     "start_time": "2023-04-09T11:48:07.473288",
     "status": "completed"
    },
    "tags": []
   },
   "source": [
    "# Prepocessing the data"
   ]
  },
  {
   "cell_type": "code",
   "execution_count": 9,
   "id": "e5e82a4c",
   "metadata": {
    "execution": {
     "iopub.execute_input": "2023-04-09T11:48:07.494614Z",
     "iopub.status.busy": "2023-04-09T11:48:07.493295Z",
     "iopub.status.idle": "2023-04-09T11:48:07.531929Z",
     "shell.execute_reply": "2023-04-09T11:48:07.530658Z"
    },
    "papermill": {
     "duration": 0.049419,
     "end_time": "2023-04-09T11:48:07.534821",
     "exception": false,
     "start_time": "2023-04-09T11:48:07.485402",
     "status": "completed"
    },
    "tags": []
   },
   "outputs": [],
   "source": [
    "X = data.drop('Stay',axis='columns')\n",
    "y = data['Stay']"
   ]
  },
  {
   "cell_type": "code",
   "execution_count": 10,
   "id": "45913474",
   "metadata": {
    "execution": {
     "iopub.execute_input": "2023-04-09T11:48:07.549042Z",
     "iopub.status.busy": "2023-04-09T11:48:07.548626Z",
     "iopub.status.idle": "2023-04-09T11:48:08.662140Z",
     "shell.execute_reply": "2023-04-09T11:48:08.661160Z"
    },
    "papermill": {
     "duration": 1.123717,
     "end_time": "2023-04-09T11:48:08.664792",
     "exception": false,
     "start_time": "2023-04-09T11:48:07.541075",
     "status": "completed"
    },
    "tags": []
   },
   "outputs": [],
   "source": [
    "from sklearn.preprocessing import OrdinalEncoder,StandardScaler\n",
    "from sklearn.impute import SimpleImputer"
   ]
  },
  {
   "cell_type": "code",
   "execution_count": 11,
   "id": "0e39be42",
   "metadata": {
    "execution": {
     "iopub.execute_input": "2023-04-09T11:48:08.679232Z",
     "iopub.status.busy": "2023-04-09T11:48:08.678320Z",
     "iopub.status.idle": "2023-04-09T11:48:08.683293Z",
     "shell.execute_reply": "2023-04-09T11:48:08.682212Z"
    },
    "papermill": {
     "duration": 0.014144,
     "end_time": "2023-04-09T11:48:08.685382",
     "exception": false,
     "start_time": "2023-04-09T11:48:08.671238",
     "status": "completed"
    },
    "tags": []
   },
   "outputs": [],
   "source": [
    "from sklearn import set_config\n",
    "set_config(display=\"diagram\")"
   ]
  },
  {
   "cell_type": "markdown",
   "id": "eb29ec32",
   "metadata": {
    "papermill": {
     "duration": 0.005683,
     "end_time": "2023-04-09T11:48:08.697082",
     "exception": false,
     "start_time": "2023-04-09T11:48:08.691399",
     "status": "completed"
    },
    "tags": []
   },
   "source": [
    "# creating pipeline"
   ]
  },
  {
   "cell_type": "code",
   "execution_count": 12,
   "id": "3462e31a",
   "metadata": {
    "execution": {
     "iopub.execute_input": "2023-04-09T11:48:08.710925Z",
     "iopub.status.busy": "2023-04-09T11:48:08.710227Z",
     "iopub.status.idle": "2023-04-09T11:48:08.722973Z",
     "shell.execute_reply": "2023-04-09T11:48:08.721811Z"
    },
    "papermill": {
     "duration": 0.022425,
     "end_time": "2023-04-09T11:48:08.725393",
     "exception": false,
     "start_time": "2023-04-09T11:48:08.702968",
     "status": "completed"
    },
    "tags": []
   },
   "outputs": [],
   "source": [
    "from sklearn.pipeline import Pipeline\n",
    "\n",
    "steps = [(\"encoder\",OrdinalEncoder()),\n",
    "        (\"scaler\",StandardScaler()),\n",
    "        (\"imputer\",SimpleImputer(strategy='mean'))\n",
    "        ]"
   ]
  },
  {
   "cell_type": "code",
   "execution_count": 13,
   "id": "0224d465",
   "metadata": {
    "execution": {
     "iopub.execute_input": "2023-04-09T11:48:08.740338Z",
     "iopub.status.busy": "2023-04-09T11:48:08.739946Z",
     "iopub.status.idle": "2023-04-09T11:48:08.744971Z",
     "shell.execute_reply": "2023-04-09T11:48:08.743840Z"
    },
    "papermill": {
     "duration": 0.015633,
     "end_time": "2023-04-09T11:48:08.747206",
     "exception": false,
     "start_time": "2023-04-09T11:48:08.731573",
     "status": "completed"
    },
    "tags": []
   },
   "outputs": [],
   "source": [
    "pipe = Pipeline(steps)"
   ]
  },
  {
   "cell_type": "code",
   "execution_count": 14,
   "id": "177518d4",
   "metadata": {
    "execution": {
     "iopub.execute_input": "2023-04-09T11:48:08.761011Z",
     "iopub.status.busy": "2023-04-09T11:48:08.760632Z",
     "iopub.status.idle": "2023-04-09T11:48:10.647937Z",
     "shell.execute_reply": "2023-04-09T11:48:10.646895Z"
    },
    "papermill": {
     "duration": 1.897437,
     "end_time": "2023-04-09T11:48:10.650689",
     "exception": false,
     "start_time": "2023-04-09T11:48:08.753252",
     "status": "completed"
    },
    "tags": []
   },
   "outputs": [],
   "source": [
    "X_transformed = pipe.fit_transform(X)"
   ]
  },
  {
   "cell_type": "code",
   "execution_count": 15,
   "id": "1d0bb60b",
   "metadata": {
    "execution": {
     "iopub.execute_input": "2023-04-09T11:48:10.665264Z",
     "iopub.status.busy": "2023-04-09T11:48:10.664324Z",
     "iopub.status.idle": "2023-04-09T11:48:10.669266Z",
     "shell.execute_reply": "2023-04-09T11:48:10.668485Z"
    },
    "papermill": {
     "duration": 0.014485,
     "end_time": "2023-04-09T11:48:10.671314",
     "exception": false,
     "start_time": "2023-04-09T11:48:10.656829",
     "status": "completed"
    },
    "tags": []
   },
   "outputs": [],
   "source": [
    "X_t = pd.DataFrame(X_transformed,columns=X.columns)"
   ]
  },
  {
   "cell_type": "code",
   "execution_count": 16,
   "id": "c9ebcb7c",
   "metadata": {
    "execution": {
     "iopub.execute_input": "2023-04-09T11:48:10.685746Z",
     "iopub.status.busy": "2023-04-09T11:48:10.685312Z",
     "iopub.status.idle": "2023-04-09T11:48:10.707555Z",
     "shell.execute_reply": "2023-04-09T11:48:10.706298Z"
    },
    "papermill": {
     "duration": 0.032299,
     "end_time": "2023-04-09T11:48:10.710004",
     "exception": false,
     "start_time": "2023-04-09T11:48:10.677705",
     "status": "completed"
    },
    "tags": []
   },
   "outputs": [
    {
     "data": {
      "text/html": [
       "<div>\n",
       "<style scoped>\n",
       "    .dataframe tbody tr th:only-of-type {\n",
       "        vertical-align: middle;\n",
       "    }\n",
       "\n",
       "    .dataframe tbody tr th {\n",
       "        vertical-align: top;\n",
       "    }\n",
       "\n",
       "    .dataframe thead th {\n",
       "        text-align: right;\n",
       "    }\n",
       "</style>\n",
       "<table border=\"1\" class=\"dataframe\">\n",
       "  <thead>\n",
       "    <tr style=\"text-align: right;\">\n",
       "      <th></th>\n",
       "      <th>case_id</th>\n",
       "      <th>Hospital_code</th>\n",
       "      <th>Hospital_type_code</th>\n",
       "      <th>City_Code_Hospital</th>\n",
       "      <th>Hospital_region_code</th>\n",
       "      <th>Available Extra Rooms in Hospital</th>\n",
       "      <th>Department</th>\n",
       "      <th>Ward_Type</th>\n",
       "      <th>Ward_Facility_Code</th>\n",
       "      <th>Bed Grade</th>\n",
       "      <th>patientid</th>\n",
       "      <th>City_Code_Patient</th>\n",
       "      <th>Type of Admission</th>\n",
       "      <th>Severity of Illness</th>\n",
       "      <th>Visitors with Patient</th>\n",
       "      <th>Age</th>\n",
       "      <th>Admission_Deposit</th>\n",
       "    </tr>\n",
       "  </thead>\n",
       "  <tbody>\n",
       "    <tr>\n",
       "      <th>0</th>\n",
       "      <td>-1.731705</td>\n",
       "      <td>-1.243547</td>\n",
       "      <td>0.354846</td>\n",
       "      <td>-0.515270</td>\n",
       "      <td>1.575132</td>\n",
       "      <td>-0.149751</td>\n",
       "      <td>1.957267</td>\n",
       "      <td>0.126041</td>\n",
       "      <td>1.061733</td>\n",
       "      <td>-0.595961</td>\n",
       "      <td>-0.986997</td>\n",
       "      <td>0.044298</td>\n",
       "      <td>-1.248315</td>\n",
       "      <td>-1.500592</td>\n",
       "      <td>-0.777039</td>\n",
       "      <td>0.40501</td>\n",
       "      <td>0.133431</td>\n",
       "    </tr>\n",
       "    <tr>\n",
       "      <th>1</th>\n",
       "      <td>-1.731012</td>\n",
       "      <td>-1.931792</td>\n",
       "      <td>0.354846</td>\n",
       "      <td>0.170066</td>\n",
       "      <td>1.575132</td>\n",
       "      <td>-1.021584</td>\n",
       "      <td>1.957267</td>\n",
       "      <td>1.357157</td>\n",
       "      <td>1.061733</td>\n",
       "      <td>-0.595961</td>\n",
       "      <td>-0.986997</td>\n",
       "      <td>0.044298</td>\n",
       "      <td>0.366069</td>\n",
       "      <td>-1.500592</td>\n",
       "      <td>-0.777039</td>\n",
       "      <td>0.40501</td>\n",
       "      <td>1.246953</td>\n",
       "    </tr>\n",
       "    <tr>\n",
       "      <th>2</th>\n",
       "      <td>-1.730319</td>\n",
       "      <td>-1.014132</td>\n",
       "      <td>1.626951</td>\n",
       "      <td>-1.200606</td>\n",
       "      <td>-1.078476</td>\n",
       "      <td>-1.021584</td>\n",
       "      <td>-1.670714</td>\n",
       "      <td>1.357157</td>\n",
       "      <td>0.465938</td>\n",
       "      <td>-0.595961</td>\n",
       "      <td>-0.986997</td>\n",
       "      <td>0.044298</td>\n",
       "      <td>0.366069</td>\n",
       "      <td>-1.500592</td>\n",
       "      <td>-0.777039</td>\n",
       "      <td>0.40501</td>\n",
       "      <td>-0.088381</td>\n",
       "    </tr>\n",
       "    <tr>\n",
       "      <th>3</th>\n",
       "      <td>-1.729626</td>\n",
       "      <td>0.821187</td>\n",
       "      <td>-0.281206</td>\n",
       "      <td>-0.857938</td>\n",
       "      <td>0.248328</td>\n",
       "      <td>-1.021584</td>\n",
       "      <td>1.957267</td>\n",
       "      <td>0.126041</td>\n",
       "      <td>-0.129857</td>\n",
       "      <td>-0.595961</td>\n",
       "      <td>-0.986997</td>\n",
       "      <td>0.044298</td>\n",
       "      <td>0.366069</td>\n",
       "      <td>-1.500592</td>\n",
       "      <td>-0.777039</td>\n",
       "      <td>0.40501</td>\n",
       "      <td>1.896011</td>\n",
       "    </tr>\n",
       "    <tr>\n",
       "      <th>4</th>\n",
       "      <td>-1.728934</td>\n",
       "      <td>0.821187</td>\n",
       "      <td>-0.281206</td>\n",
       "      <td>-0.857938</td>\n",
       "      <td>0.248328</td>\n",
       "      <td>-1.021584</td>\n",
       "      <td>1.957267</td>\n",
       "      <td>1.357157</td>\n",
       "      <td>-0.129857</td>\n",
       "      <td>-0.595961</td>\n",
       "      <td>-0.986997</td>\n",
       "      <td>0.044298</td>\n",
       "      <td>0.366069</td>\n",
       "      <td>-1.500592</td>\n",
       "      <td>-0.777039</td>\n",
       "      <td>0.40501</td>\n",
       "      <td>0.901582</td>\n",
       "    </tr>\n",
       "  </tbody>\n",
       "</table>\n",
       "</div>"
      ],
      "text/plain": [
       "    case_id  Hospital_code  Hospital_type_code  City_Code_Hospital  \\\n",
       "0 -1.731705      -1.243547            0.354846           -0.515270   \n",
       "1 -1.731012      -1.931792            0.354846            0.170066   \n",
       "2 -1.730319      -1.014132            1.626951           -1.200606   \n",
       "3 -1.729626       0.821187           -0.281206           -0.857938   \n",
       "4 -1.728934       0.821187           -0.281206           -0.857938   \n",
       "\n",
       "   Hospital_region_code  Available Extra Rooms in Hospital  Department  \\\n",
       "0              1.575132                          -0.149751    1.957267   \n",
       "1              1.575132                          -1.021584    1.957267   \n",
       "2             -1.078476                          -1.021584   -1.670714   \n",
       "3              0.248328                          -1.021584    1.957267   \n",
       "4              0.248328                          -1.021584    1.957267   \n",
       "\n",
       "   Ward_Type  Ward_Facility_Code  Bed Grade  patientid  City_Code_Patient  \\\n",
       "0   0.126041            1.061733  -0.595961  -0.986997           0.044298   \n",
       "1   1.357157            1.061733  -0.595961  -0.986997           0.044298   \n",
       "2   1.357157            0.465938  -0.595961  -0.986997           0.044298   \n",
       "3   0.126041           -0.129857  -0.595961  -0.986997           0.044298   \n",
       "4   1.357157           -0.129857  -0.595961  -0.986997           0.044298   \n",
       "\n",
       "   Type of Admission  Severity of Illness  Visitors with Patient      Age  \\\n",
       "0          -1.248315            -1.500592              -0.777039  0.40501   \n",
       "1           0.366069            -1.500592              -0.777039  0.40501   \n",
       "2           0.366069            -1.500592              -0.777039  0.40501   \n",
       "3           0.366069            -1.500592              -0.777039  0.40501   \n",
       "4           0.366069            -1.500592              -0.777039  0.40501   \n",
       "\n",
       "   Admission_Deposit  \n",
       "0           0.133431  \n",
       "1           1.246953  \n",
       "2          -0.088381  \n",
       "3           1.896011  \n",
       "4           0.901582  "
      ]
     },
     "execution_count": 16,
     "metadata": {},
     "output_type": "execute_result"
    }
   ],
   "source": [
    "X_t.head()"
   ]
  },
  {
   "cell_type": "code",
   "execution_count": 17,
   "id": "b4af0023",
   "metadata": {
    "execution": {
     "iopub.execute_input": "2023-04-09T11:48:10.724484Z",
     "iopub.status.busy": "2023-04-09T11:48:10.723814Z",
     "iopub.status.idle": "2023-04-09T11:48:11.349149Z",
     "shell.execute_reply": "2023-04-09T11:48:11.348012Z"
    },
    "papermill": {
     "duration": 0.635314,
     "end_time": "2023-04-09T11:48:11.351593",
     "exception": false,
     "start_time": "2023-04-09T11:48:10.716279",
     "status": "completed"
    },
    "tags": []
   },
   "outputs": [
    {
     "data": {
      "text/html": [
       "<div>\n",
       "<style scoped>\n",
       "    .dataframe tbody tr th:only-of-type {\n",
       "        vertical-align: middle;\n",
       "    }\n",
       "\n",
       "    .dataframe tbody tr th {\n",
       "        vertical-align: top;\n",
       "    }\n",
       "\n",
       "    .dataframe thead th {\n",
       "        text-align: right;\n",
       "    }\n",
       "</style>\n",
       "<table border=\"1\" class=\"dataframe\">\n",
       "  <thead>\n",
       "    <tr style=\"text-align: right;\">\n",
       "      <th></th>\n",
       "      <th>case_id</th>\n",
       "      <th>Hospital_code</th>\n",
       "      <th>Hospital_type_code</th>\n",
       "      <th>City_Code_Hospital</th>\n",
       "      <th>Hospital_region_code</th>\n",
       "      <th>Available Extra Rooms in Hospital</th>\n",
       "      <th>Department</th>\n",
       "      <th>Ward_Type</th>\n",
       "      <th>Ward_Facility_Code</th>\n",
       "      <th>Bed Grade</th>\n",
       "      <th>patientid</th>\n",
       "      <th>City_Code_Patient</th>\n",
       "      <th>Type of Admission</th>\n",
       "      <th>Severity of Illness</th>\n",
       "      <th>Visitors with Patient</th>\n",
       "      <th>Age</th>\n",
       "      <th>Admission_Deposit</th>\n",
       "    </tr>\n",
       "  </thead>\n",
       "  <tbody>\n",
       "    <tr>\n",
       "      <th>count</th>\n",
       "      <td>5001.000000</td>\n",
       "      <td>5.001000e+03</td>\n",
       "      <td>5.001000e+03</td>\n",
       "      <td>5.001000e+03</td>\n",
       "      <td>5.001000e+03</td>\n",
       "      <td>5.001000e+03</td>\n",
       "      <td>5.001000e+03</td>\n",
       "      <td>5.001000e+03</td>\n",
       "      <td>5.001000e+03</td>\n",
       "      <td>5.001000e+03</td>\n",
       "      <td>5.001000e+03</td>\n",
       "      <td>5.001000e+03</td>\n",
       "      <td>5.001000e+03</td>\n",
       "      <td>5.001000e+03</td>\n",
       "      <td>5.001000e+03</td>\n",
       "      <td>5.001000e+03</td>\n",
       "      <td>5.001000e+03</td>\n",
       "    </tr>\n",
       "    <tr>\n",
       "      <th>mean</th>\n",
       "      <td>0.000000</td>\n",
       "      <td>1.094017e-16</td>\n",
       "      <td>3.978244e-17</td>\n",
       "      <td>1.136641e-17</td>\n",
       "      <td>1.420801e-18</td>\n",
       "      <td>1.982018e-16</td>\n",
       "      <td>6.251526e-17</td>\n",
       "      <td>9.093128e-17</td>\n",
       "      <td>1.136641e-16</td>\n",
       "      <td>4.404484e-17</td>\n",
       "      <td>-8.808968e-17</td>\n",
       "      <td>1.193473e-16</td>\n",
       "      <td>-5.683205e-18</td>\n",
       "      <td>-5.114885e-17</td>\n",
       "      <td>-7.956487e-17</td>\n",
       "      <td>-1.591297e-16</td>\n",
       "      <td>1.420801e-17</td>\n",
       "    </tr>\n",
       "    <tr>\n",
       "      <th>std</th>\n",
       "      <td>1.000100</td>\n",
       "      <td>1.000100e+00</td>\n",
       "      <td>1.000100e+00</td>\n",
       "      <td>1.000100e+00</td>\n",
       "      <td>1.000100e+00</td>\n",
       "      <td>1.000100e+00</td>\n",
       "      <td>1.000100e+00</td>\n",
       "      <td>1.000100e+00</td>\n",
       "      <td>1.000100e+00</td>\n",
       "      <td>9.999000e-01</td>\n",
       "      <td>1.000100e+00</td>\n",
       "      <td>9.958916e-01</td>\n",
       "      <td>1.000100e+00</td>\n",
       "      <td>1.000100e+00</td>\n",
       "      <td>1.000100e+00</td>\n",
       "      <td>1.000100e+00</td>\n",
       "      <td>1.000100e+00</td>\n",
       "    </tr>\n",
       "    <tr>\n",
       "      <th>min</th>\n",
       "      <td>-1.731705</td>\n",
       "      <td>-2.046500e+00</td>\n",
       "      <td>-9.172587e-01</td>\n",
       "      <td>-1.200606e+00</td>\n",
       "      <td>-1.078476e+00</td>\n",
       "      <td>-1.893418e+00</td>\n",
       "      <td>-3.484705e+00</td>\n",
       "      <td>-2.336191e+00</td>\n",
       "      <td>-1.917244e+00</td>\n",
       "      <td>-1.818452e+00</td>\n",
       "      <td>-1.742516e+00</td>\n",
       "      <td>-1.379073e+00</td>\n",
       "      <td>-1.248315e+00</td>\n",
       "      <td>-1.500592e+00</td>\n",
       "      <td>-1.390936e+00</td>\n",
       "      <td>-1.914035e+00</td>\n",
       "      <td>-1.894132e+00</td>\n",
       "    </tr>\n",
       "    <tr>\n",
       "      <th>25%</th>\n",
       "      <td>-0.865852</td>\n",
       "      <td>-8.994249e-01</td>\n",
       "      <td>-9.172587e-01</td>\n",
       "      <td>-8.579379e-01</td>\n",
       "      <td>-1.078476e+00</td>\n",
       "      <td>-1.021584e+00</td>\n",
       "      <td>1.432766e-01</td>\n",
       "      <td>-1.105075e+00</td>\n",
       "      <td>-7.256529e-01</td>\n",
       "      <td>-5.959611e-01</td>\n",
       "      <td>-8.515737e-01</td>\n",
       "      <td>-6.673877e-01</td>\n",
       "      <td>-1.248315e+00</td>\n",
       "      <td>-1.500592e+00</td>\n",
       "      <td>-7.770388e-01</td>\n",
       "      <td>-9.864171e-01</td>\n",
       "      <td>-7.835875e-01</td>\n",
       "    </tr>\n",
       "    <tr>\n",
       "      <th>50%</th>\n",
       "      <td>0.000000</td>\n",
       "      <td>2.476498e-01</td>\n",
       "      <td>-2.812062e-01</td>\n",
       "      <td>-1.726017e-01</td>\n",
       "      <td>2.483281e-01</td>\n",
       "      <td>-1.497510e-01</td>\n",
       "      <td>1.432766e-01</td>\n",
       "      <td>1.260411e-01</td>\n",
       "      <td>4.659380e-01</td>\n",
       "      <td>-5.959611e-01</td>\n",
       "      <td>7.295005e-03</td>\n",
       "      <td>2.815265e-01</td>\n",
       "      <td>3.660690e-01</td>\n",
       "      <td>7.745209e-01</td>\n",
       "      <td>-1.631413e-01</td>\n",
       "      <td>-5.226082e-01</td>\n",
       "      <td>-4.520919e-02</td>\n",
       "    </tr>\n",
       "    <tr>\n",
       "      <th>75%</th>\n",
       "      <td>0.865852</td>\n",
       "      <td>8.211871e-01</td>\n",
       "      <td>3.548463e-01</td>\n",
       "      <td>8.554026e-01</td>\n",
       "      <td>2.483281e-01</td>\n",
       "      <td>7.220824e-01</td>\n",
       "      <td>1.432766e-01</td>\n",
       "      <td>1.357157e+00</td>\n",
       "      <td>1.061733e+00</td>\n",
       "      <td>6.265295e-01</td>\n",
       "      <td>8.519086e-01</td>\n",
       "      <td>2.815265e-01</td>\n",
       "      <td>3.660690e-01</td>\n",
       "      <td>7.745209e-01</td>\n",
       "      <td>4.507562e-01</td>\n",
       "      <td>8.688187e-01</td>\n",
       "      <td>7.422951e-01</td>\n",
       "    </tr>\n",
       "    <tr>\n",
       "      <th>max</th>\n",
       "      <td>1.731705</td>\n",
       "      <td>1.509432e+00</td>\n",
       "      <td>2.899057e+00</td>\n",
       "      <td>2.226075e+00</td>\n",
       "      <td>1.575132e+00</td>\n",
       "      <td>5.953083e+00</td>\n",
       "      <td>3.771258e+00</td>\n",
       "      <td>2.588273e+00</td>\n",
       "      <td>1.061733e+00</td>\n",
       "      <td>1.849020e+00</td>\n",
       "      <td>1.710777e+00</td>\n",
       "      <td>4.551641e+00</td>\n",
       "      <td>1.980453e+00</td>\n",
       "      <td>7.745209e-01</td>\n",
       "      <td>7.817526e+00</td>\n",
       "      <td>2.260246e+00</td>\n",
       "      <td>2.085072e+00</td>\n",
       "    </tr>\n",
       "  </tbody>\n",
       "</table>\n",
       "</div>"
      ],
      "text/plain": [
       "           case_id  Hospital_code  Hospital_type_code  City_Code_Hospital  \\\n",
       "count  5001.000000   5.001000e+03        5.001000e+03        5.001000e+03   \n",
       "mean      0.000000   1.094017e-16        3.978244e-17        1.136641e-17   \n",
       "std       1.000100   1.000100e+00        1.000100e+00        1.000100e+00   \n",
       "min      -1.731705  -2.046500e+00       -9.172587e-01       -1.200606e+00   \n",
       "25%      -0.865852  -8.994249e-01       -9.172587e-01       -8.579379e-01   \n",
       "50%       0.000000   2.476498e-01       -2.812062e-01       -1.726017e-01   \n",
       "75%       0.865852   8.211871e-01        3.548463e-01        8.554026e-01   \n",
       "max       1.731705   1.509432e+00        2.899057e+00        2.226075e+00   \n",
       "\n",
       "       Hospital_region_code  Available Extra Rooms in Hospital    Department  \\\n",
       "count          5.001000e+03                       5.001000e+03  5.001000e+03   \n",
       "mean           1.420801e-18                       1.982018e-16  6.251526e-17   \n",
       "std            1.000100e+00                       1.000100e+00  1.000100e+00   \n",
       "min           -1.078476e+00                      -1.893418e+00 -3.484705e+00   \n",
       "25%           -1.078476e+00                      -1.021584e+00  1.432766e-01   \n",
       "50%            2.483281e-01                      -1.497510e-01  1.432766e-01   \n",
       "75%            2.483281e-01                       7.220824e-01  1.432766e-01   \n",
       "max            1.575132e+00                       5.953083e+00  3.771258e+00   \n",
       "\n",
       "          Ward_Type  Ward_Facility_Code     Bed Grade     patientid  \\\n",
       "count  5.001000e+03        5.001000e+03  5.001000e+03  5.001000e+03   \n",
       "mean   9.093128e-17        1.136641e-16  4.404484e-17 -8.808968e-17   \n",
       "std    1.000100e+00        1.000100e+00  9.999000e-01  1.000100e+00   \n",
       "min   -2.336191e+00       -1.917244e+00 -1.818452e+00 -1.742516e+00   \n",
       "25%   -1.105075e+00       -7.256529e-01 -5.959611e-01 -8.515737e-01   \n",
       "50%    1.260411e-01        4.659380e-01 -5.959611e-01  7.295005e-03   \n",
       "75%    1.357157e+00        1.061733e+00  6.265295e-01  8.519086e-01   \n",
       "max    2.588273e+00        1.061733e+00  1.849020e+00  1.710777e+00   \n",
       "\n",
       "       City_Code_Patient  Type of Admission  Severity of Illness  \\\n",
       "count       5.001000e+03       5.001000e+03         5.001000e+03   \n",
       "mean        1.193473e-16      -5.683205e-18        -5.114885e-17   \n",
       "std         9.958916e-01       1.000100e+00         1.000100e+00   \n",
       "min        -1.379073e+00      -1.248315e+00        -1.500592e+00   \n",
       "25%        -6.673877e-01      -1.248315e+00        -1.500592e+00   \n",
       "50%         2.815265e-01       3.660690e-01         7.745209e-01   \n",
       "75%         2.815265e-01       3.660690e-01         7.745209e-01   \n",
       "max         4.551641e+00       1.980453e+00         7.745209e-01   \n",
       "\n",
       "       Visitors with Patient           Age  Admission_Deposit  \n",
       "count           5.001000e+03  5.001000e+03       5.001000e+03  \n",
       "mean           -7.956487e-17 -1.591297e-16       1.420801e-17  \n",
       "std             1.000100e+00  1.000100e+00       1.000100e+00  \n",
       "min            -1.390936e+00 -1.914035e+00      -1.894132e+00  \n",
       "25%            -7.770388e-01 -9.864171e-01      -7.835875e-01  \n",
       "50%            -1.631413e-01 -5.226082e-01      -4.520919e-02  \n",
       "75%             4.507562e-01  8.688187e-01       7.422951e-01  \n",
       "max             7.817526e+00  2.260246e+00       2.085072e+00  "
      ]
     },
     "execution_count": 17,
     "metadata": {},
     "output_type": "execute_result"
    }
   ],
   "source": [
    "X_t.describe()"
   ]
  },
  {
   "cell_type": "code",
   "execution_count": 18,
   "id": "51948d82",
   "metadata": {
    "execution": {
     "iopub.execute_input": "2023-04-09T11:48:11.366875Z",
     "iopub.status.busy": "2023-04-09T11:48:11.366472Z",
     "iopub.status.idle": "2023-04-09T11:48:11.427082Z",
     "shell.execute_reply": "2023-04-09T11:48:11.425759Z"
    },
    "papermill": {
     "duration": 0.071793,
     "end_time": "2023-04-09T11:48:11.430285",
     "exception": false,
     "start_time": "2023-04-09T11:48:11.358492",
     "status": "completed"
    },
    "tags": []
   },
   "outputs": [],
   "source": [
    "from sklearn.model_selection import train_test_split\n",
    "X_train, X_test, y_train, y_test = train_test_split(X_t, y, test_size=0.25, random_state=42)"
   ]
  },
  {
   "cell_type": "code",
   "execution_count": 28,
   "id": "cd505877",
   "metadata": {
    "execution": {
     "iopub.execute_input": "2023-04-09T11:48:11.447447Z",
     "iopub.status.busy": "2023-04-09T11:48:11.446291Z",
     "iopub.status.idle": "2023-04-09T11:48:11.466522Z",
     "shell.execute_reply": "2023-04-09T11:48:11.465642Z"
    },
    "papermill": {
     "duration": 0.031179,
     "end_time": "2023-04-09T11:48:11.468944",
     "exception": false,
     "start_time": "2023-04-09T11:48:11.437765",
     "status": "completed"
    },
    "tags": []
   },
   "outputs": [],
   "source": [
    "from sklearn.neural_network import MLPClassifier\n",
    "\n",
    "model = MLPClassifier(hidden_layer_sizes=(500,175,100,25),\n",
    "                    batch_size=4,\n",
    "                    solver='adam',\n",
    "                    warm_start=True,\n",
    "                    momentum=0.8,\n",
    "                    activation='relu',\n",
    "                    validation_fraction=0.2,\n",
    "                    max_iter=2000)"
   ]
  },
  {
   "cell_type": "code",
   "execution_count": 29,
   "id": "0c74e25e",
   "metadata": {
    "execution": {
     "iopub.execute_input": "2023-04-09T11:48:11.485116Z",
     "iopub.status.busy": "2023-04-09T11:48:11.484359Z",
     "iopub.status.idle": "2023-04-09T11:55:51.921592Z",
     "shell.execute_reply": "2023-04-09T11:55:51.919696Z"
    },
    "papermill": {
     "duration": 460.450628,
     "end_time": "2023-04-09T11:55:51.926449",
     "exception": false,
     "start_time": "2023-04-09T11:48:11.475821",
     "status": "completed"
    },
    "tags": []
   },
   "outputs": [],
   "source": [
    "model.fit(X_train, y_train)\n",
    "\n",
    "y_predicted = model.predict(X_test)"
   ]
  },
  {
   "cell_type": "code",
   "execution_count": 30,
   "id": "d27cbb5b",
   "metadata": {
    "execution": {
     "iopub.execute_input": "2023-04-09T11:55:53.048306Z",
     "iopub.status.busy": "2023-04-09T11:55:53.047309Z",
     "iopub.status.idle": "2023-04-09T11:55:53.129549Z",
     "shell.execute_reply": "2023-04-09T11:55:53.128608Z"
    },
    "papermill": {
     "duration": 0.094627,
     "end_time": "2023-04-09T11:55:53.132533",
     "exception": false,
     "start_time": "2023-04-09T11:55:53.037906",
     "status": "completed"
    },
    "tags": []
   },
   "outputs": [
    {
     "data": {
      "text/plain": [
       "0.3317346123101519"
      ]
     },
     "execution_count": 30,
     "metadata": {},
     "output_type": "execute_result"
    }
   ],
   "source": [
    "from sklearn.metrics import accuracy_score\n",
    "accuracy_score(y_test, y_predicted)"
   ]
  },
  {
   "cell_type": "code",
   "execution_count": 17,
   "id": "9ed766b8",
   "metadata": {
    "execution": {
     "iopub.execute_input": "2023-04-09T11:55:51.964838Z",
     "iopub.status.busy": "2023-04-09T11:55:51.964112Z",
     "iopub.status.idle": "2023-04-09T11:55:52.155731Z",
     "shell.execute_reply": "2023-04-09T11:55:52.154458Z"
    },
    "papermill": {
     "duration": 0.213894,
     "end_time": "2023-04-09T11:55:52.158631",
     "exception": false,
     "start_time": "2023-04-09T11:55:51.944737",
     "status": "completed"
    },
    "tags": []
   },
   "outputs": [],
   "source": [
    "from sklearn.metrics import confusion_matrix,ConfusionMatrixDisplay\n",
    "cm = confusion_matrix(y_test, y_predicted, labels=model.classes_)\n",
    "disp = ConfusionMatrixDisplay(confusion_matrix=cm,display_labels=model.classes_)"
   ]
  },
  {
   "cell_type": "code",
   "execution_count": 18,
   "id": "b837b641",
   "metadata": {
    "execution": {
     "iopub.execute_input": "2023-04-09T11:55:52.174722Z",
     "iopub.status.busy": "2023-04-09T11:55:52.173829Z",
     "iopub.status.idle": "2023-04-09T11:55:53.026889Z",
     "shell.execute_reply": "2023-04-09T11:55:53.026034Z"
    },
    "papermill": {
     "duration": 0.863994,
     "end_time": "2023-04-09T11:55:53.029495",
     "exception": false,
     "start_time": "2023-04-09T11:55:52.165501",
     "status": "completed"
    },
    "tags": []
   },
   "outputs": [
    {
     "data": {
      "text/plain": [
       "<sklearn.metrics._plot.confusion_matrix.ConfusionMatrixDisplay at 0x717b9c4b0f50>"
      ]
     },
     "execution_count": 18,
     "metadata": {},
     "output_type": "execute_result"
    },
    {
     "data": {
      "image/png": "[encoded data removed]",
      "text/plain": [
       "<Figure size 640x480 with 2 Axes>"
      ]
     },
     "metadata": {},
     "output_type": "display_data"
    }
   ],
   "source": [
    "disp.plot()"
   ]
  }
 ],
 "metadata": {
  "kernelspec": {
   "display_name": "Python 3",
   "language": "python",
   "name": "python3"
  },
  "language_info": {
   "codemirror_mode": {
    "name": "ipython",
    "version": 3
   },
   "file_extension": ".py",
   "mimetype": "text/x-python",
   "name": "python",
   "nbconvert_exporter": "python",
   "pygments_lexer": "ipython3",
   "version": "3.10.11"
  },
  "papermill": {
   "default_parameters": {},
   "duration": 477.400944,
   "end_time": "2023-04-09T11:55:53.964374",
   "environment_variables": {},
   "exception": null,
   "input_path": "__notebook__.ipynb",
   "output_path": "__notebook__.ipynb",
   "parameters": {},
   "start_time": "2023-04-09T11:47:56.563430",
   "version": "2.4.0"
  }
 },
 "nbformat": 4,
 "nbformat_minor": 5
}
